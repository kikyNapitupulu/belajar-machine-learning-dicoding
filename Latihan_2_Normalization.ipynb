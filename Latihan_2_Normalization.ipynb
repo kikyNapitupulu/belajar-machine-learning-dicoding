{
  "nbformat": 4,
  "nbformat_minor": 0,
  "metadata": {
    "colab": {
      "name": "Latihan 2 Normalization.ipynb",
      "provenance": []
    },
    "kernelspec": {
      "name": "python3",
      "display_name": "Python 3"
    }
  },
  "cells": [
    {
      "cell_type": "code",
      "metadata": {
        "id": "6SNiv5L0Ea6S"
      },
      "source": [
        "# import library MinMaxScaler \n",
        "from sklearn.preprocessing import MinMaxScaler\n",
        "\n",
        "# Masukkan data\n",
        "data = [[12000000, 33], [35000000, 45], [4000000, 23], [6500000, 26], [9000000, 29]]"
      ],
      "execution_count": 1,
      "outputs": []
    },
    {
      "cell_type": "code",
      "metadata": {
        "colab": {
          "base_uri": "https://localhost:8080/"
        },
        "id": "Kgu_AeEVJWl6",
        "outputId": "729d9f7d-c441-4331-f279-73227e9efcb5"
      },
      "source": [
        "# Membuat objek MinMaxScaller\n",
        "scaler = MinMaxScaler()\n",
        "\n",
        "# Memanggil fungsi Fit dari Objek MinMaxScaler untuk menghitung nilai minimum dan maksimum kolom pada data\n",
        "scaler.fit(data)"
      ],
      "execution_count": 2,
      "outputs": [
        {
          "output_type": "execute_result",
          "data": {
            "text/plain": [
              "MinMaxScaler(copy=True, feature_range=(0, 1))"
            ]
          },
          "metadata": {
            "tags": []
          },
          "execution_count": 2
        }
      ]
    },
    {
      "cell_type": "code",
      "metadata": {
        "colab": {
          "base_uri": "https://localhost:8080/"
        },
        "id": "F2DrAtBOKbQY",
        "outputId": "541e24f2-dae6-41e1-8b00-a864413d01cb"
      },
      "source": [
        "# Memanggil fungsi transform\n",
        "print(scaler.transform(data))"
      ],
      "execution_count": 3,
      "outputs": [
        {
          "output_type": "stream",
          "text": [
            "[[0.25806452 0.45454545]\n",
            " [1.         1.        ]\n",
            " [0.         0.        ]\n",
            " [0.08064516 0.13636364]\n",
            " [0.16129032 0.27272727]]\n"
          ],
          "name": "stdout"
        }
      ]
    },
    {
      "cell_type": "code",
      "metadata": {
        "id": "uSMGeGqGL9iO"
      },
      "source": [
        ""
      ],
      "execution_count": null,
      "outputs": []
    }
  ]
}