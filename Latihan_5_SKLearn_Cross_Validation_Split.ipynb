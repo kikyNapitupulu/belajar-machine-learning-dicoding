{
  "nbformat": 4,
  "nbformat_minor": 0,
  "metadata": {
    "colab": {
      "name": "Latihan 5 SKLearn Cross Validation Split.ipynb",
      "provenance": []
    },
    "kernelspec": {
      "name": "python3",
      "display_name": "Python 3"
    }
  },
  "cells": [
    {
      "cell_type": "code",
      "metadata": {
        "id": "U_NRBXjmUNRR"
      },
      "source": [
        "# import library sklearn dan datasets\n",
        "import sklearn\n",
        "from sklearn import datasets\n",
        "\n",
        "# load data iris\n",
        "iris = datasets.load_iris()"
      ],
      "execution_count": 1,
      "outputs": []
    },
    {
      "cell_type": "code",
      "metadata": {
        "id": "6nfyp_mUUjk9"
      },
      "source": [
        "# Bagi atribut dan label pada datasets\n",
        "x = iris.data\n",
        "y = iris.target"
      ],
      "execution_count": 2,
      "outputs": []
    },
    {
      "cell_type": "code",
      "metadata": {
        "id": "waU1ejYwUtXg"
      },
      "source": [
        "# import tree\n",
        "from sklearn import tree\n",
        "\n",
        "# Membuat model Decision Tree dengan sklearn ke dalam variabel classifier yaitu clf\n",
        "clf = tree.DecisionTreeClassifier()"
      ],
      "execution_count": 3,
      "outputs": []
    },
    {
      "cell_type": "code",
      "metadata": {
        "id": "NP1HPeg9VFef"
      },
      "source": [
        "# import cross_val_score\n",
        "from sklearn.model_selection import cross_val_score\n",
        "\n",
        "# mengevaluasi performa model dengan memanggil fungsi cross_val_score dan dengan 5 jumlah fold\n",
        "scores = cross_val_score(clf,x,y, cv=5)"
      ],
      "execution_count": 4,
      "outputs": []
    },
    {
      "cell_type": "code",
      "metadata": {
        "colab": {
          "base_uri": "https://localhost:8080/"
        },
        "id": "FyMx0rhuVkzo",
        "outputId": "b7c1f4fe-6e28-4af3-fce3-9211af4e00dc"
      },
      "source": [
        "# menampilkan skor akurasi tiap lapisan\n",
        "scores"
      ],
      "execution_count": 5,
      "outputs": [
        {
          "output_type": "execute_result",
          "data": {
            "text/plain": [
              "array([0.96666667, 0.96666667, 0.9       , 1.        , 1.        ])"
            ]
          },
          "metadata": {
            "tags": []
          },
          "execution_count": 5
        }
      ]
    },
    {
      "cell_type": "code",
      "metadata": {
        "id": "WrZrMvbVVsm7"
      },
      "source": [
        "#Elemen pertama dari larik menunjukkan nilai 0.96666 yang berarti ketika fold pertama dijadikan validation set dan fold lainnya dijadikan train set, hasil dari pengujian tersebut adalah akurasi sebesar 0.96666. "
      ],
      "execution_count": null,
      "outputs": []
    }
  ]
}